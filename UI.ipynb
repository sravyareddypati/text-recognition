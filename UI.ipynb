{
 "cells": [
  {
   "cell_type": "code",
   "execution_count": 2,
   "id": "190a47f2",
   "metadata": {},
   "outputs": [],
   "source": [
    "import tkinter as tk\n",
    "from tkinter import filedialog\n",
    "from tkinter import messagebox\n",
    "from PIL import Image, ImageTk\n",
    "import numpy as np\n",
    "from tensorflow import keras\n",
    "from tensorflow.keras.preprocessing import image\n",
    "\n",
    "# Load the trained model\n",
    "model = keras.models.load_model('vowel_classifier.h5')  # Load your model file\n",
    "\n",
    "# Define a function to make predictions on an image\n",
    "def predict_image(image_path):\n",
    "    img = image.load_img(image_path, target_size=(224, 224))\n",
    "    img = image.img_to_array(img)\n",
    "    img = np.expand_dims(img, axis=0)\n",
    "    img /= 255.0  # Rescale the image\n",
    "    prediction = model.predict(img)\n",
    "    class_index = np.argmax(prediction)\n",
    "    classes = ['A', 'Aa', 'Ai', 'E', 'Ee', 'U']  # Your class labels\n",
    "    predicted_class = classes[class_index]\n",
    "    return predicted_class\n",
    "\n",
    "# Function to open a file dialog and make predictions\n",
    "def open_file_dialog():\n",
    "    file_path = filedialog.askopenfilename(filetypes=[(\"Image files\", \"*.png *.jpg *.jpeg *.gif *.bmp\")])\n",
    "    if file_path:\n",
    "        predicted_class = predict_image(file_path)\n",
    "        display_result(predicted_class, file_path)\n",
    "\n",
    "# Function to display the result\n",
    "def display_result(predicted_class, image_path):\n",
    "    result_label.config(text=f'Predicted Class: {predicted_class}')\n",
    "    load = Image.open(image_path)\n",
    "    load = load.resize((224, 224), Image.ANTIALIAS)\n",
    "    render = ImageTk.PhotoImage(load)\n",
    "    img_label.config(image=render)\n",
    "    img_label.image = render\n",
    "\n",
    "# Create the main window\n",
    "root = tk.Tk()\n",
    "root.title(\"Image Classifier\")\n",
    "\n",
    "# Create a button for opening the file dialog\n",
    "open_button = tk.Button(root, text=\"Open Image\", command=open_file_dialog)\n",
    "open_button.pack(pady=20)\n",
    "\n",
    "# Create a label for displaying the predicted class\n",
    "result_label = tk.Label(root, text=\"\", font=(\"Helvetica\", 16))\n",
    "result_label.pack(pady=10)\n",
    "\n",
    "# Create a label for displaying the selected image\n",
    "img_label = tk.Label(root)\n",
    "img_label.pack()\n",
    "\n",
    "root.mainloop()\n"
   ]
  },
  {
   "cell_type": "code",
   "execution_count": null,
   "id": "0359fac4",
   "metadata": {},
   "outputs": [],
   "source": []
  },
  {
   "cell_type": "code",
   "execution_count": null,
   "id": "dc65825b",
   "metadata": {},
   "outputs": [],
   "source": []
  }
 ],
 "metadata": {
  "kernelspec": {
   "display_name": "Python 3",
   "language": "python",
   "name": "python3"
  },
  "language_info": {
   "codemirror_mode": {
    "name": "ipython",
    "version": 3
   },
   "file_extension": ".py",
   "mimetype": "text/x-python",
   "name": "python",
   "nbconvert_exporter": "python",
   "pygments_lexer": "ipython3",
   "version": "3.6.8"
  }
 },
 "nbformat": 4,
 "nbformat_minor": 5
}
